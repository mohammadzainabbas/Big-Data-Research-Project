{
 "cells": [
  {
   "cell_type": "code",
   "execution_count": 1,
   "metadata": {},
   "outputs": [
    {
     "name": "stderr",
     "output_type": "stream",
     "text": [
      "/opt/homebrew/Caskroom/mambaforge/base/envs/yolov7/lib/python3.10/site-packages/tqdm/auto.py:22: TqdmWarning: IProgress not found. Please update jupyter and ipywidgets. See https://ipywidgets.readthedocs.io/en/stable/user_install.html\n",
      "  from .autonotebook import tqdm as notebook_tqdm\n"
     ]
    }
   ],
   "source": [
    "import argparse\n",
    "import time\n",
    "from pathlib import Path\n",
    "from os.path import join\n",
    "import cv2\n",
    "import torch\n",
    "import torch.backends.cudnn as cudnn\n",
    "from numpy import random\n",
    "from typing import List, Tuple, Dict, Any, Union\n",
    "import networkx as nx\n",
    "from dataclasses import dataclass, field\n",
    "from stg_utils import *\n",
    "from sys import path\n",
    "path.append(\"/Users/mohammadzainabbas/Masters/CS/Big-Data-Research-Project/src/object_detection/yolov7_with_object_tracking\")\n",
    "\n",
    "from models.experimental import attempt_load\n",
    "from utils.datasets import LoadStreams, LoadImages\n",
    "from utils.general import check_img_size, check_requirements, \\\n",
    "                check_imshow, non_max_suppression, apply_classifier, \\\n",
    "                scale_coords, xyxy2xywh, strip_optimizer, set_logging, \\\n",
    "                increment_path\n",
    "from utils.plots import plot_one_box\n",
    "from utils.torch_utils import select_device, load_classifier, time_synchronized, TracedModel\n",
    "\n",
    "from sort import *\n",
    "\n",
    "from IPython.core.interactiveshell import InteractiveShell\n",
    "InteractiveShell.ast_node_interactivity = \"all\""
   ]
  },
  {
   "cell_type": "code",
   "execution_count": 2,
   "metadata": {},
   "outputs": [
    {
     "data": {
      "text/plain": [
       "'Function to Draw Bounding boxes'"
      ]
     },
     "execution_count": 2,
     "metadata": {},
     "output_type": "execute_result"
    }
   ],
   "source": [
    "\"\"\"Function to Draw Bounding boxes\"\"\"\n",
    "def draw_boxes(img, bbox, identities=None, categories=None, confidences = None, names=None, colors = None):\n",
    "    for i, box in enumerate(bbox):\n",
    "        x1, y1, x2, y2 = [int(i) for i in box]\n",
    "        tl = opt.thickness or round(0.002 * (img.shape[0] + img.shape[1]) / 2) + 1  # line/font thickness\n",
    "\n",
    "        cat = int(categories[i]) if categories is not None else 0\n",
    "        id = int(identities[i]) if identities is not None else 0\n",
    "        # conf = confidences[i] if confidences is not None else 0\n",
    "\n",
    "        color = colors[cat]\n",
    "        \n",
    "        if not opt.nobbox:\n",
    "            cv2.rectangle(img, (x1, y1), (x2, y2), color, tl)\n",
    "\n",
    "        if not opt.nolabel:\n",
    "            label = str(id) + \":\"+ names[cat] if identities is not None else  f'{names[cat]} {confidences[i]:.2f}'\n",
    "            tf = max(tl - 1, 1)  # font thickness\n",
    "            t_size = cv2.getTextSize(label, 0, fontScale=tl / 3, thickness=tf)[0]\n",
    "            c2 = x1 + t_size[0], y1 - t_size[1] - 3\n",
    "            cv2.rectangle(img, (x1, y1), c2, color, -1, cv2.LINE_AA)  # filled\n",
    "            cv2.putText(img, label, (x1, y1 - 2), 0, tl / 3, [225, 255, 255], thickness=tf, lineType=cv2.LINE_AA)\n",
    "    return img"
   ]
  },
  {
   "cell_type": "code",
   "execution_count": 3,
   "metadata": {},
   "outputs": [],
   "source": [
    "def generate_spatial_graph(img, bbox, identities=None, categories=None, confidences = None, names=None, colors = None):\n",
    "    \"\"\"\n",
    "    Construct a spatial graph from the bounding boxes, identities, categories, confidences, names and colors\n",
    "    \"\"\"\n",
    "    for i, box in enumerate(bbox):\n",
    "        x1, y1, x2, y2 = [int(i) for i in box]\n",
    "        tl = opt.thickness or round(0.002 * (img.shape[0] + img.shape[1]) / 2) + 1  # line/font thickness\n",
    "\n",
    "        cat = int(categories[i]) if categories is not None else 0\n",
    "        id = int(identities[i]) if identities is not None else 0\n",
    "        # conf = confidences[i] if confidences is not None else 0\n",
    "\n",
    "        color = colors[cat]\n",
    "        \n",
    "        if not opt.nobbox:\n",
    "            cv2.rectangle(img, (x1, y1), (x2, y2), color, tl)\n",
    "\n",
    "        if not opt.nolabel:\n",
    "            label = str(id) + \":\"+ names[cat] if identities is not None else  f'{names[cat]} {confidences[i]:.2f}'\n",
    "            tf = max(tl - 1, 1)  # font thickness\n",
    "            t_size = cv2.getTextSize(label, 0, fontScale=tl / 3, thickness=tf)[0]\n",
    "            c2 = x1 + t_size[0], y1 - t_size[1] - 3\n",
    "            cv2.rectangle(img, (x1, y1), c2, color, -1, cv2.LINE_AA)  # filled\n",
    "            cv2.putText(img, label, (x1, y1 - 2), 0, tl / 3, [225, 255, 255], thickness=tf, lineType=cv2.LINE_AA)\n",
    "    return img"
   ]
  },
  {
   "cell_type": "code",
   "execution_count": 4,
   "metadata": {},
   "outputs": [],
   "source": [
    "def detect(opt, save_img=False):\n",
    "    sort_tracker = Sort(max_age=5, min_hits=2, iou_threshold=0.2)\n",
    "\n",
    "    source, weights, view_img, save_txt, imgsz, trace = opt.source, opt.weights, opt.view_img, opt.save_txt, opt.img_size, not opt.no_trace\n",
    "    save_img = not opt.nosave and not source.endswith('.txt')  # save inference images\n",
    "    webcam = source.isnumeric() or source.endswith('.txt') or source.lower().startswith(\n",
    "        ('rtsp://', 'rtmp://', 'http://', 'https://'))\n",
    "    save_dir = Path(increment_path(Path(opt.project) / opt.name, exist_ok=opt.exist_ok))  # increment run\n",
    "    if not opt.nosave:  \n",
    "        (save_dir / 'labels' if save_txt else save_dir).mkdir(parents=True, exist_ok=True)  # make dir\n",
    "\n",
    "    # Initialize\n",
    "    set_logging()\n",
    "    device = select_device(opt.device)\n",
    "    half = device.type != 'cpu'  # half precision only supported on CUDA\n",
    "\n",
    "    # Load model\n",
    "    model = attempt_load(weights, map_location=device)  # load FP32 model\n",
    "    stride = int(model.stride.max())  # model stride\n",
    "    imgsz = check_img_size(imgsz, s=stride)  # check img_size\n",
    "\n",
    "    if trace:\n",
    "        model = TracedModel(model, device, opt.img_size)\n",
    "\n",
    "    if half:\n",
    "        model.half()  # to FP16\n",
    "\n",
    "    # Second-stage classifier\n",
    "    classify = False\n",
    "    if classify:\n",
    "        modelc = load_classifier(name='resnet101', n=2)  # initialize\n",
    "        modelc.load_state_dict(torch.load('weights/resnet101.pt', map_location=device)['model']).to(device).eval()\n",
    "\n",
    "    # Set Dataloader\n",
    "    vid_path, vid_writer = None, None\n",
    "    if webcam:\n",
    "        view_img = check_imshow()\n",
    "        cudnn.benchmark = True  # set True to speed up constant image size inference\n",
    "        dataset = LoadStreams(source, img_size=imgsz, stride=stride)\n",
    "    else:\n",
    "        dataset = LoadImages(source, img_size=imgsz, stride=stride)\n",
    "\n",
    "    # Get names and colors\n",
    "    names = model.module.names if hasattr(model, 'module') else model.names\n",
    "    colors = [[random.randint(0, 255) for _ in range(3)] for _ in names]\n",
    "\n",
    "    # Run inference\n",
    "    if device.type != 'cpu':\n",
    "        model(torch.zeros(1, 3, imgsz, imgsz).to(device).type_as(next(model.parameters())))  # run once\n",
    "    old_img_w = old_img_h = imgsz\n",
    "    old_img_b = 1\n",
    "\n",
    "    t0 = time.time()\n",
    "    ###################################\n",
    "    startTime = 0\n",
    "    ###################################\n",
    "    for path, img, im0s, vid_cap in dataset:\n",
    "        img = torch.from_numpy(img).to(device)\n",
    "        img = img.half() if half else img.float()  # uint8 to fp16/32\n",
    "        img /= 255.0  # 0 - 255 to 0.0 - 1.0\n",
    "        if img.ndimension() == 3:\n",
    "            img = img.unsqueeze(0)\n",
    "\n",
    "        # Warmup\n",
    "        if device.type != 'cpu' and (old_img_b != img.shape[0] or old_img_h != img.shape[2] or old_img_w != img.shape[3]):\n",
    "            old_img_b = img.shape[0]\n",
    "            old_img_h = img.shape[2]\n",
    "            old_img_w = img.shape[3]\n",
    "            for i in range(3):\n",
    "                model(img, augment=opt.augment)[0]\n",
    "\n",
    "        # Inference\n",
    "        t1 = time_synchronized()\n",
    "        pred = model(img, augment=opt.augment)[0]\n",
    "        t2 = time_synchronized()\n",
    "\n",
    "        # Apply NMS\n",
    "        pred = non_max_suppression(pred, opt.conf_thres, opt.iou_thres, classes=opt.classes, agnostic=opt.agnostic_nms)\n",
    "        t3 = time_synchronized()\n",
    "\n",
    "        # Apply Classifier\n",
    "        if classify:\n",
    "            pred = apply_classifier(pred, modelc, img, im0s)\n",
    "\n",
    "        # Process detections\n",
    "        for i, det in enumerate(pred):  # detections per image\n",
    "            if webcam:  # batch_size >= 1\n",
    "                p, s, im0, frame = path[i], '%g: ' % i, im0s[i].copy(), dataset.count\n",
    "            else:\n",
    "                p, s, im0, frame = path, '', im0s, getattr(dataset, 'frame', 0)\n",
    "\n",
    "            p = Path(p)  # to Path\n",
    "            save_path = str(save_dir / p.name)  # img.jpg\n",
    "            txt_path = str(save_dir / 'labels' / p.stem) + ('' if dataset.mode == 'image' else f'_{frame}')  # img.txt\n",
    "            gn = torch.tensor(im0.shape)[[1, 0, 1, 0]]  # normalization gain whwh\n",
    "            if len(det):\n",
    "                # Rescale boxes from img_size to im0 size\n",
    "                det[:, :4] = scale_coords(img.shape[2:], det[:, :4], im0.shape).round()\n",
    "\n",
    "                # Print results\n",
    "                for c in det[:, -1].unique():\n",
    "                    n = (det[:, -1] == c).sum()  # detections per class\n",
    "                    s += f\"{n} {names[int(c)]}{'s' * (n > 1)}, \"  # add to string\n",
    "\n",
    "                dets_to_sort = np.empty((0,6))\n",
    "                # NOTE: We send in detected object class too\n",
    "                for x1,y1,x2,y2,conf,detclass in det.cpu().detach().numpy():\n",
    "                    dets_to_sort = np.vstack((dets_to_sort, \n",
    "                                np.array([x1, y1, x2, y2, conf, detclass])))\n",
    "\n",
    "                if opt.track:\n",
    "  \n",
    "                    tracked_dets = sort_tracker.update(dets_to_sort, opt.unique_track_color)\n",
    "                    tracks =sort_tracker.getTrackers()\n",
    "\n",
    "                    # draw boxes for visualization\n",
    "                    if len(tracked_dets)>0:\n",
    "                        bbox_xyxy = tracked_dets[:,:4]\n",
    "                        identities = tracked_dets[:, 8]\n",
    "                        categories = tracked_dets[:, 4]\n",
    "                        confidences = None\n",
    "\n",
    "                        if opt.show_track:\n",
    "                            #loop over tracks\n",
    "                            for t, track in enumerate(tracks):\n",
    "                  \n",
    "                                track_color = colors[int(track.detclass)] if not opt.unique_track_color else sort_tracker.color_list[t]\n",
    "\n",
    "                                [cv2.line(im0, (int(track.centroidarr[i][0]),\n",
    "                                                int(track.centroidarr[i][1])), \n",
    "                                                (int(track.centroidarr[i+1][0]),\n",
    "                                                int(track.centroidarr[i+1][1])),\n",
    "                                                track_color, thickness=opt.thickness) \n",
    "                                                for i,_ in  enumerate(track.centroidarr) \n",
    "                                                    if i < len(track.centroidarr)-1 ] \n",
    "                else:\n",
    "                    bbox_xyxy = dets_to_sort[:,:4]\n",
    "                    identities = None\n",
    "                    categories = dets_to_sort[:, 5]\n",
    "                    confidences = dets_to_sort[:, 4]\n",
    "                \n",
    "                ######################################################\n",
    "                is_graph = True\n",
    "                if is_graph:\n",
    "                    \n",
    "                    if opt.track:\n",
    "                        bbox_xyxy = tracked_dets[:,:4]\n",
    "                        identities = tracked_dets[:, 8]\n",
    "                        categories = tracked_dets[:, 4]\n",
    "                        confidences = tracked_dets[:, 5]\n",
    "                    else:\n",
    "                        bbox_xyxy = dets_to_sort[:,:4]\n",
    "                        identities = None\n",
    "                        categories = dets_to_sort[:, 5]\n",
    "                        confidences = dets_to_sort[:, 4]\n",
    "\n",
    "                    \n",
    "\n",
    "                    # Loop over each detection and draw bbox\n",
    "                    for x1,y1,x2,y2,conf,detclass in dets_to_sort:\n",
    "                        # Draw bbox\n",
    "                        label = f'{names[int(detclass)]} {conf:.2f}'\n",
    "                        plot_one_box([x1,y1,x2,y2], im0, label=label, color=colors[int(detclass)], line_thickness=opt.thickness)\n",
    "                \n",
    "                    im0, graph = generate_spatial_graph(im0, , names, colors)\n",
    "                ######################################################\n",
    "                im0 = draw_boxes(im0, bbox_xyxy, identities, categories, confidences, names, colors)\n",
    "                \n",
    "            # Print time (inference + NMS)\n",
    "            print(f'{s}Done. ({(1E3 * (t2 - t1)):.1f}ms) Inference, ({(1E3 * (t3 - t2)):.1f}ms) NMS')\n",
    "\n",
    "            # Stream results\n",
    "            ######################################################\n",
    "            if dataset.mode != 'image' and opt.show_fps:\n",
    "                currentTime = time.time()\n",
    "\n",
    "                fps = 1/(currentTime - startTime)\n",
    "                startTime = currentTime\n",
    "                cv2.putText(im0, \"FPS: \" + str(int(fps)), (20, 70), cv2.FONT_HERSHEY_PLAIN, 2, (0,255,0),2)\n",
    "\n",
    "            #######################################################\n",
    "            if view_img:\n",
    "                cv2.imshow(str(p), im0)\n",
    "                cv2.waitKey(1)  # 1 millisecond\n",
    "\n",
    "            # Save results (image with detections)\n",
    "            if save_img:\n",
    "                if dataset.mode == 'image':\n",
    "                    cv2.imwrite(save_path, im0)\n",
    "                    print(f\" The image with the result is saved in: {save_path}\")\n",
    "                else:  # 'video' or 'stream'\n",
    "                    if vid_path != save_path:  # new video\n",
    "                        vid_path = save_path\n",
    "                        if isinstance(vid_writer, cv2.VideoWriter):\n",
    "                            vid_writer.release()  # release previous video writer\n",
    "                        if vid_cap:  # video\n",
    "                            fps = vid_cap.get(cv2.CAP_PROP_FPS)\n",
    "                            w = int(vid_cap.get(cv2.CAP_PROP_FRAME_WIDTH))\n",
    "                            h = int(vid_cap.get(cv2.CAP_PROP_FRAME_HEIGHT))\n",
    "                        else:  # stream\n",
    "                            fps, w, h = 30, im0.shape[1], im0.shape[0]\n",
    "                            save_path += '.mp4'\n",
    "                        vid_writer = cv2.VideoWriter(save_path, cv2.VideoWriter_fourcc(*'mp4v'), fps, (w, h))\n",
    "                    vid_writer.write(im0)\n",
    "\n",
    "    if save_txt or save_img:\n",
    "        s = f\"\\n{len(list(save_dir.glob('labels/*.txt')))} labels saved to {save_dir / 'labels'}\" if save_txt else ''\n",
    "        #print(f\"Results saved to {save_dir}{s}\")\n",
    "\n",
    "    print(f'Done. ({time.time() - t0:.3f}s)')\n",
    "    return graph"
   ]
  },
  {
   "cell_type": "code",
   "execution_count": 5,
   "metadata": {},
   "outputs": [],
   "source": [
    "opt = dict_with_attributes(dict(weights='/Users/mohammadzainabbas/Masters/CS/Big-Data-Research-Project/src/object_detection/yolov7_with_object_tracking/yolov7.pt', source='/Users/mohammadzainabbas/Masters/CS/Big-Data-Research-Project/data/street.mp4', img_size=640, conf_thres=0.25, iou_thres=0.45, device='', view_img=True, save_txt=False, save_conf=False, nosave=False, classes=None, agnostic_nms=False, augment=False, update=False, project='detects', name='test', exist_ok=False, no_trace=True, track=True, show_track=True, show_fps=True, thickness=2, seed=2, nobbox=False, nolabel=False, unique_track_color=False))"
   ]
  },
  {
   "cell_type": "code",
   "execution_count": 6,
   "metadata": {},
   "outputs": [],
   "source": [
    "graph = nx.Graph()"
   ]
  },
  {
   "cell_type": "code",
   "execution_count": 7,
   "metadata": {},
   "outputs": [
    {
     "name": "stderr",
     "output_type": "stream",
     "text": [
      "YOLOR 🚀 425fbec torch 1.13.0 CPU\n",
      "\n"
     ]
    },
    {
     "name": "stdout",
     "output_type": "stream",
     "text": [
      "Fusing layers... \n",
      "RepConv.fuse_repvgg_block\n",
      "RepConv.fuse_repvgg_block\n",
      "RepConv.fuse_repvgg_block\n"
     ]
    },
    {
     "name": "stderr",
     "output_type": "stream",
     "text": [
      "Model Summary: 306 layers, 36905341 parameters, 36905341 gradients\n"
     ]
    }
   ],
   "source": [
    "sort_tracker = Sort(max_age=5, min_hits=2, iou_threshold=0.2)\n",
    "source, weights, view_img, save_txt, imgsz, trace = opt.source, opt.weights, opt.view_img, opt.save_txt, opt.img_size, not opt.no_trace\n",
    "webcam = source.isnumeric() or source.endswith('.txt') or source.lower().startswith(\n",
    "    ('rtsp://', 'rtmp://', 'http://', 'https://'))\n",
    "save_dir = Path(increment_path(Path(opt.project) / opt.name, exist_ok=opt.exist_ok))  # increment run\n",
    "if not opt.nosave:  \n",
    "    (save_dir / 'labels' if save_txt else save_dir).mkdir(parents=True, exist_ok=True)  # make dir\n",
    "\n",
    "# Initialize\n",
    "set_logging()\n",
    "device = select_device(opt.device)\n",
    "half = device.type != 'cpu'  # half precision only supported on CUDA\n",
    "\n",
    "# Load model\n",
    "model = attempt_load(weights, map_location=device)  # load FP32 model\n",
    "stride = int(model.stride.max())  # model stride\n",
    "imgsz = check_img_size(imgsz, s=stride)  # check img_size"
   ]
  },
  {
   "cell_type": "code",
   "execution_count": 8,
   "metadata": {},
   "outputs": [
    {
     "name": "stdout",
     "output_type": "stream",
     "text": [
      "device = device(type='cpu')\n",
      "half = False\n",
      "stride = 32\n",
      "imgsz = 640\n"
     ]
    }
   ],
   "source": [
    "print(f\"{device = }\")\n",
    "print(f\"{half = }\")\n",
    "print(f\"{stride = }\")\n",
    "print(f\"{imgsz = }\")"
   ]
  },
  {
   "cell_type": "code",
   "execution_count": 9,
   "metadata": {},
   "outputs": [
    {
     "name": "stdout",
     "output_type": "stream",
     "text": [
      "type(model) = <class 'models.yolo.Model'>\n",
      "trace = False\n",
      "half = False\n",
      "webcam = False\n"
     ]
    }
   ],
   "source": [
    "print(f\"{type(model) = }\")\n",
    "print(f\"{trace = }\")\n",
    "print(f\"{half = }\")\n",
    "print(f\"{webcam = }\")"
   ]
  },
  {
   "cell_type": "code",
   "execution_count": 10,
   "metadata": {},
   "outputs": [],
   "source": [
    "vid_path, vid_writer = None, None\n",
    "dataset = LoadImages(source, img_size=imgsz, stride=stride)"
   ]
  },
  {
   "cell_type": "code",
   "execution_count": 11,
   "metadata": {},
   "outputs": [
    {
     "name": "stdout",
     "output_type": "stream",
     "text": [
      "dataset.stride = 32\n",
      "dataset.files = ['/Users/mohammadzainabbas/Masters/CS/Big-Data-Research-Project/data/street.mp4']\n",
      "dataset.nf = 1\n",
      "dataset.cap = < cv2.VideoCapture 0x16e205290>\n"
     ]
    }
   ],
   "source": [
    "print(f\"{dataset.stride = }\")\n",
    "print(f\"{dataset.files = }\")\n",
    "print(f\"{dataset.nf = }\")\n",
    "print(f\"{dataset.cap = }\")"
   ]
  },
  {
   "cell_type": "code",
   "execution_count": 12,
   "metadata": {},
   "outputs": [],
   "source": [
    "names = model.module.names if hasattr(model, 'module') else model.names\n",
    "colors = [[random.randint(0, 255) for _ in range(3)] for _ in names]"
   ]
  },
  {
   "cell_type": "code",
   "execution_count": 13,
   "metadata": {},
   "outputs": [
    {
     "name": "stdout",
     "output_type": "stream",
     "text": [
      "len(names) = 80\n",
      "names = ['person', 'bicycle', 'car', 'motorcycle', 'airplane', 'bus', 'train', 'truck', 'boat', 'traffic light', 'fire hydrant', 'stop sign', 'parking meter', 'bench', 'bird', 'cat', 'dog', 'horse', 'sheep', 'cow', 'elephant', 'bear', 'zebra', 'giraffe', 'backpack', 'umbrella', 'handbag', 'tie', 'suitcase', 'frisbee', 'skis', 'snowboard', 'sports ball', 'kite', 'baseball bat', 'baseball glove', 'skateboard', 'surfboard', 'tennis racket', 'bottle', 'wine glass', 'cup', 'fork', 'knife', 'spoon', 'bowl', 'banana', 'apple', 'sandwich', 'orange', 'broccoli', 'carrot', 'hot dog', 'pizza', 'donut', 'cake', 'chair', 'couch', 'potted plant', 'bed', 'dining table', 'toilet', 'tv', 'laptop', 'mouse', 'remote', 'keyboard', 'cell phone', 'microwave', 'oven', 'toaster', 'sink', 'refrigerator', 'book', 'clock', 'vase', 'scissors', 'teddy bear', 'hair drier', 'toothbrush']\n"
     ]
    }
   ],
   "source": [
    "print(f\"{len(names) = }\")\n",
    "print(f\"{names = }\")"
   ]
  },
  {
   "cell_type": "code",
   "execution_count": 14,
   "metadata": {},
   "outputs": [],
   "source": [
    "old_img_w = old_img_h = imgsz\n",
    "old_img_b = 1"
   ]
  },
  {
   "cell_type": "code",
   "execution_count": 15,
   "metadata": {},
   "outputs": [
    {
     "name": "stdout",
     "output_type": "stream",
     "text": [
      "video 1/1 (1/302) /Users/mohammadzainabbas/Masters/CS/Big-Data-Research-Project/data/street.mp4: "
     ]
    }
   ],
   "source": [
    "for path, img, im0s, vid_cap in dataset:\n",
    "    break"
   ]
  },
  {
   "cell_type": "code",
   "execution_count": 16,
   "metadata": {},
   "outputs": [],
   "source": [
    "img = torch.from_numpy(img).to(device)\n",
    "img = img.half() if half else img.float()  # uint8 to fp16/32\n",
    "img /= 255.0  # 0 - 255 to 0.0 - 1.0\n",
    "oimg = img"
   ]
  },
  {
   "cell_type": "code",
   "execution_count": 17,
   "metadata": {},
   "outputs": [],
   "source": [
    "if img.ndimension() == 3:\n",
    "    img = img.unsqueeze(0)"
   ]
  },
  {
   "cell_type": "code",
   "execution_count": 18,
   "metadata": {},
   "outputs": [
    {
     "name": "stderr",
     "output_type": "stream",
     "text": [
      "/opt/homebrew/Caskroom/mambaforge/base/envs/yolov7/lib/python3.10/site-packages/torch/functional.py:504: UserWarning: torch.meshgrid: in an upcoming release, it will be required to pass the indexing argument. (Triggered internally at /Users/runner/work/pytorch/pytorch/pytorch/aten/src/ATen/native/TensorShape.cpp:3191.)\n",
      "  return _VF.meshgrid(tensors, **kwargs)  # type: ignore[attr-defined]\n"
     ]
    }
   ],
   "source": [
    "pred = model(img, augment=opt.augment)"
   ]
  },
  {
   "cell_type": "code",
   "execution_count": 19,
   "metadata": {},
   "outputs": [
    {
     "name": "stdout",
     "output_type": "stream",
     "text": [
      "type(pred) = <class 'tuple'>\n"
     ]
    }
   ],
   "source": [
    "print(f\"{type(pred) = }\")"
   ]
  },
  {
   "cell_type": "code",
   "execution_count": 20,
   "metadata": {},
   "outputs": [
    {
     "data": {
      "text/plain": [
       "torch.Tensor"
      ]
     },
     "execution_count": 20,
     "metadata": {},
     "output_type": "execute_result"
    },
    {
     "data": {
      "text/plain": [
       "list"
      ]
     },
     "execution_count": 20,
     "metadata": {},
     "output_type": "execute_result"
    },
    {
     "data": {
      "text/plain": [
       "3"
      ]
     },
     "execution_count": 20,
     "metadata": {},
     "output_type": "execute_result"
    },
    {
     "data": {
      "text/plain": [
       "[torch.Tensor, torch.Tensor, torch.Tensor]"
      ]
     },
     "execution_count": 20,
     "metadata": {},
     "output_type": "execute_result"
    },
    {
     "data": {
      "text/plain": [
       "[torch.Size([1, 3, 48, 80, 85]),\n",
       " torch.Size([1, 3, 24, 40, 85]),\n",
       " torch.Size([1, 3, 12, 20, 85])]"
      ]
     },
     "execution_count": 20,
     "metadata": {},
     "output_type": "execute_result"
    }
   ],
   "source": [
    "type(pred[0])\n",
    "type(pred[1])\n",
    "len(pred[1])\n",
    "[type(x) for x in pred[1]]\n",
    "[x.shape for x in pred[1]]"
   ]
  },
  {
   "cell_type": "code",
   "execution_count": 21,
   "metadata": {},
   "outputs": [],
   "source": [
    "pred = pred[0]"
   ]
  },
  {
   "cell_type": "code",
   "execution_count": 22,
   "metadata": {},
   "outputs": [],
   "source": [
    "pred = non_max_suppression(pred, opt.conf_thres, opt.iou_thres, classes=opt.classes, agnostic=opt.agnostic_nms)"
   ]
  },
  {
   "cell_type": "code",
   "execution_count": 23,
   "metadata": {},
   "outputs": [
    {
     "data": {
      "text/plain": [
       "list"
      ]
     },
     "execution_count": 23,
     "metadata": {},
     "output_type": "execute_result"
    },
    {
     "data": {
      "text/plain": [
       "1"
      ]
     },
     "execution_count": 23,
     "metadata": {},
     "output_type": "execute_result"
    },
    {
     "data": {
      "text/plain": [
       "torch.Tensor"
      ]
     },
     "execution_count": 23,
     "metadata": {},
     "output_type": "execute_result"
    },
    {
     "data": {
      "text/plain": [
       "torch.Size([27, 6])"
      ]
     },
     "execution_count": 23,
     "metadata": {},
     "output_type": "execute_result"
    }
   ],
   "source": [
    "type(pred)\n",
    "len(pred)\n",
    "type(pred[0])\n",
    "pred[0].shape"
   ]
  },
  {
   "cell_type": "code",
   "execution_count": 24,
   "metadata": {},
   "outputs": [],
   "source": [
    "for i, det in enumerate(pred):\n",
    "    break"
   ]
  },
  {
   "cell_type": "code",
   "execution_count": 25,
   "metadata": {},
   "outputs": [
    {
     "data": {
      "text/plain": [
       "torch.Size([27, 6])"
      ]
     },
     "execution_count": 25,
     "metadata": {},
     "output_type": "execute_result"
    }
   ],
   "source": [
    "det.shape\n",
    "p, s, im0, frame = path, '', im0s, getattr(dataset, 'frame', 0)"
   ]
  },
  {
   "cell_type": "code",
   "execution_count": 26,
   "metadata": {},
   "outputs": [
    {
     "data": {
      "text/plain": [
       "PosixPath('/Users/mohammadzainabbas/Masters/CS/Big-Data-Research-Project/data/street.mp4')"
      ]
     },
     "execution_count": 26,
     "metadata": {},
     "output_type": "execute_result"
    },
    {
     "data": {
      "text/plain": [
       "'detects/test3/street.mp4'"
      ]
     },
     "execution_count": 26,
     "metadata": {},
     "output_type": "execute_result"
    }
   ],
   "source": [
    "p = Path(p)  # to Path\n",
    "save_path = str(save_dir / p.name)  # img.jpg\n",
    "p\n",
    "save_path"
   ]
  },
  {
   "cell_type": "code",
   "execution_count": 27,
   "metadata": {},
   "outputs": [
    {
     "name": "stdout",
     "output_type": "stream",
     "text": [
      "len(det) = 27\n",
      "img.shape[2:] = torch.Size([384, 640])\n",
      "im0.shape = (1080, 1920, 3)\n"
     ]
    }
   ],
   "source": [
    "print(f\"{len(det) = }\")\n",
    "print(f\"{img.shape[2:] = }\")\n",
    "# print(f\"{det[:, :4] = }\")\n",
    "print(f\"{im0.shape = }\")"
   ]
  },
  {
   "cell_type": "code",
   "execution_count": 28,
   "metadata": {},
   "outputs": [
    {
     "data": {
      "text/plain": [
       "(torch.Size([384, 640]), (1080, 1920, 3))"
      ]
     },
     "execution_count": 28,
     "metadata": {},
     "output_type": "execute_result"
    }
   ],
   "source": [
    "img1_shape, coords, img0_shape = img.shape[2:], det[:, :4], im0.shape\n",
    "img1_shape, img0_shape"
   ]
  },
  {
   "cell_type": "code",
   "execution_count": 29,
   "metadata": {},
   "outputs": [],
   "source": [
    "det[:, :4] = scale_coords(img.shape[2:], det[:, :4], im0.shape).round()"
   ]
  },
  {
   "cell_type": "code",
   "execution_count": 30,
   "metadata": {},
   "outputs": [
    {
     "data": {
      "text/plain": [
       "tensor([ 0.,  1., 13., 24., 26., 58.], grad_fn=<Unique2Backward0>)"
      ]
     },
     "execution_count": 30,
     "metadata": {},
     "output_type": "execute_result"
    }
   ],
   "source": [
    "det[:, -1].unique()"
   ]
  },
  {
   "cell_type": "code",
   "execution_count": 31,
   "metadata": {},
   "outputs": [
    {
     "data": {
      "text/plain": [
       "tensor(1)"
      ]
     },
     "execution_count": 31,
     "metadata": {},
     "output_type": "execute_result"
    },
    {
     "data": {
      "text/plain": [
       "'backpack'"
      ]
     },
     "execution_count": 31,
     "metadata": {},
     "output_type": "execute_result"
    }
   ],
   "source": [
    "c = det[:, -1].unique()[3]\n",
    "(det[:, -1] == c).sum()\n",
    "names[int(c)]"
   ]
  },
  {
   "cell_type": "code",
   "execution_count": 32,
   "metadata": {},
   "outputs": [],
   "source": [
    "for c in det[:, -1].unique():\n",
    "    n = (det[:, -1] == c).sum()  # detections per class\n",
    "    s += f\"{n} {names[int(c)]}{'s' * (n > 1)}, \"  # add to string"
   ]
  },
  {
   "cell_type": "code",
   "execution_count": 33,
   "metadata": {},
   "outputs": [
    {
     "data": {
      "text/plain": [
       "'18 persons, 3 bicycles, 1 bench, 1 backpack, 3 handbags, 1 potted plant, '"
      ]
     },
     "execution_count": 33,
     "metadata": {},
     "output_type": "execute_result"
    }
   ],
   "source": [
    "s"
   ]
  },
  {
   "cell_type": "code",
   "execution_count": 34,
   "metadata": {},
   "outputs": [
    {
     "data": {
      "text/plain": [
       "array([[       1647,         121,        1716,         284,     0.91595,           0],\n",
       "       [       1606,         609,        1716,         863,     0.90923,           0],\n",
       "       [        249,         787,         374,        1080,     0.89867,           0],\n",
       "       [        801,         245,         857,         422,     0.88594,           0],\n",
       "       [       1452,          35,        1535,         185,     0.88343,           0],\n",
       "       [       1575,         913,        1715,        1079,     0.87925,           0],\n",
       "       [        713,         229,         783,         409,     0.87111,           0],\n",
       "       [        871,         391,         985,         613,     0.86602,           0],\n",
       "       [       1347,          70,        1395,         151,     0.81387,           1],\n",
       "       [        879,          77,         943,         232,     0.80651,           0],\n",
       "       [       1797,         180,        1864,         367,     0.78584,           0],\n",
       "       [        886,         482,        1022,         643,     0.78523,           1],\n",
       "       [        294,         298,         364,         481,     0.71708,           0],\n",
       "       [        615,          78,         690,         193,     0.71245,          58],\n",
       "       [        616,        1007,         752,        1080,     0.69813,           0],\n",
       "       [       1509,          90,        1553,         192,     0.69539,           1],\n",
       "       [       1646,         686,        1712,         791,     0.69249,          26],\n",
       "       [       1347,          16,        1402,         129,     0.68978,           0],\n",
       "       [       1154,           0,        1197,          75,     0.65086,           0],\n",
       "       [         11,         277,          90,         435,     0.58677,           0],\n",
       "       [        985,           0,        1032,         127,      0.5406,           0],\n",
       "       [       1324,           0,        1358,          47,     0.53892,           0],\n",
       "       [        247,         951,         284,        1023,     0.34445,          26],\n",
       "       [        284,         398,         315,         456,     0.30317,          26],\n",
       "       [        593,         244,         802,         417,     0.29631,          13],\n",
       "       [       1837,         262,        1883,         344,     0.28662,           0],\n",
       "       [       1806,         208,        1857,         292,     0.26673,          24]], dtype=float32)"
      ]
     },
     "execution_count": 34,
     "metadata": {},
     "output_type": "execute_result"
    }
   ],
   "source": [
    "det.cpu().detach().numpy()"
   ]
  },
  {
   "cell_type": "code",
   "execution_count": 35,
   "metadata": {},
   "outputs": [],
   "source": [
    "dets_to_sort = np.empty((0,6))\n",
    "# NOTE: We send in detected object class too\n",
    "for x1,y1,x2,y2,conf,detclass in det.cpu().detach().numpy():\n",
    "    dets_to_sort = np.vstack((dets_to_sort, np.array([x1, y1, x2, y2, conf, detclass])))"
   ]
  },
  {
   "cell_type": "code",
   "execution_count": 36,
   "metadata": {},
   "outputs": [
    {
     "data": {
      "text/plain": [
       "array([[       1647,         121,        1716,         284,     0.91595,           0],\n",
       "       [       1606,         609,        1716,         863,     0.90923,           0],\n",
       "       [        249,         787,         374,        1080,     0.89867,           0],\n",
       "       [        801,         245,         857,         422,     0.88594,           0],\n",
       "       [       1452,          35,        1535,         185,     0.88343,           0],\n",
       "       [       1575,         913,        1715,        1079,     0.87925,           0],\n",
       "       [        713,         229,         783,         409,     0.87111,           0],\n",
       "       [        871,         391,         985,         613,     0.86602,           0],\n",
       "       [       1347,          70,        1395,         151,     0.81387,           1],\n",
       "       [        879,          77,         943,         232,     0.80651,           0],\n",
       "       [       1797,         180,        1864,         367,     0.78584,           0],\n",
       "       [        886,         482,        1022,         643,     0.78523,           1],\n",
       "       [        294,         298,         364,         481,     0.71708,           0],\n",
       "       [        615,          78,         690,         193,     0.71245,          58],\n",
       "       [        616,        1007,         752,        1080,     0.69813,           0],\n",
       "       [       1509,          90,        1553,         192,     0.69539,           1],\n",
       "       [       1646,         686,        1712,         791,     0.69249,          26],\n",
       "       [       1347,          16,        1402,         129,     0.68978,           0],\n",
       "       [       1154,           0,        1197,          75,     0.65086,           0],\n",
       "       [         11,         277,          90,         435,     0.58677,           0],\n",
       "       [        985,           0,        1032,         127,      0.5406,           0],\n",
       "       [       1324,           0,        1358,          47,     0.53892,           0],\n",
       "       [        247,         951,         284,        1023,     0.34445,          26],\n",
       "       [        284,         398,         315,         456,     0.30317,          26],\n",
       "       [        593,         244,         802,         417,     0.29631,          13],\n",
       "       [       1837,         262,        1883,         344,     0.28662,           0],\n",
       "       [       1806,         208,        1857,         292,     0.26673,          24]])"
      ]
     },
     "execution_count": 36,
     "metadata": {},
     "output_type": "execute_result"
    }
   ],
   "source": [
    "dets_to_sort"
   ]
  },
  {
   "cell_type": "code",
   "execution_count": 37,
   "metadata": {},
   "outputs": [
    {
     "name": "stdout",
     "output_type": "stream",
     "text": [
      "opt.track = True\n",
      "opt.unique_track_color = False\n"
     ]
    }
   ],
   "source": [
    "print(f\"{opt.track = }\")\n",
    "print(f\"{opt.unique_track_color = }\")"
   ]
  },
  {
   "cell_type": "code",
   "execution_count": 38,
   "metadata": {},
   "outputs": [
    {
     "name": "stdout",
     "output_type": "stream",
     "text": [
      "sort_tracker.max_age = 5\n",
      "sort_tracker.min_hits = 2\n",
      "sort_tracker.iou_threshold = 0.2\n",
      "sort_tracker.trackers = []\n",
      "sort_tracker.frame_count = 0\n",
      "sort_tracker.color_list = []\n"
     ]
    }
   ],
   "source": [
    "print(f\"{sort_tracker.max_age = }\")\n",
    "print(f\"{sort_tracker.min_hits = }\")\n",
    "print(f\"{sort_tracker.iou_threshold = }\")\n",
    "print(f\"{sort_tracker.trackers = }\")\n",
    "print(f\"{sort_tracker.frame_count = }\")\n",
    "print(f\"{sort_tracker.color_list = }\")"
   ]
  },
  {
   "cell_type": "code",
   "execution_count": 39,
   "metadata": {},
   "outputs": [],
   "source": [
    "tracked_dets = sort_tracker.update(dets_to_sort, opt.unique_track_color)\n",
    "tracks =sort_tracker.getTrackers()"
   ]
  },
  {
   "cell_type": "code",
   "execution_count": null,
   "metadata": {},
   "outputs": [],
   "source": [
    "@dataclass\n",
    "class Node:\n",
    "    id: int = field(default=0)\n",
    "    x1: int = field(default=0)\n",
    "    y1: int = field(default=0)\n",
    "    x2: int = field(default=0)\n",
    "    y2: int = field(default=0)\n",
    "    conf: float = field(default=float(0))\n",
    "    detclass: int = field(default=0)\n",
    "    centroid: tuple = field(init=False)\n",
    "    def __post_init__(self):\n",
    "        self.centroid = ((self.x1 + self.x2) // 2, (self.y1 + self.y2) // 2)"
   ]
  },
  {
   "cell_type": "code",
   "execution_count": null,
   "metadata": {},
   "outputs": [],
   "source": [
    "for i, obj in enumerate(tracked_dets):\n",
    "    x1, y1, x2, y2, detclass, _, _, _, id = obj\n",
    "    graph.add_node(Node(id, x1, y1, x2, y2, detclass))\n"
   ]
  },
  {
   "cell_type": "code",
   "execution_count": 40,
   "metadata": {},
   "outputs": [
    {
     "name": "stdout",
     "output_type": "stream",
     "text": [
      "sort_tracker.max_age = 5\n",
      "sort_tracker.min_hits = 2\n",
      "sort_tracker.iou_threshold = 0.2\n",
      "sort_tracker.trackers = [<sort.KalmanBoxTracker object at 0x160a98a00>, <sort.KalmanBoxTracker object at 0x160a99ba0>, <sort.KalmanBoxTracker object at 0x160a9b550>, <sort.KalmanBoxTracker object at 0x160a9a080>, <sort.KalmanBoxTracker object at 0x160a9bca0>, <sort.KalmanBoxTracker object at 0x160a99630>, <sort.KalmanBoxTracker object at 0x160a9a620>, <sort.KalmanBoxTracker object at 0x160a98400>, <sort.KalmanBoxTracker object at 0x14df4fac0>, <sort.KalmanBoxTracker object at 0x103d8caf0>, <sort.KalmanBoxTracker object at 0x1608c0fa0>, <sort.KalmanBoxTracker object at 0x160a9abc0>, <sort.KalmanBoxTracker object at 0x160a99660>, <sort.KalmanBoxTracker object at 0x160a48fd0>, <sort.KalmanBoxTracker object at 0x1608ec3d0>, <sort.KalmanBoxTracker object at 0x160a22830>, <sort.KalmanBoxTracker object at 0x14c66a2c0>, <sort.KalmanBoxTracker object at 0x1082eac50>, <sort.KalmanBoxTracker object at 0x1608c1ab0>, <sort.KalmanBoxTracker object at 0x103d8c4f0>, <sort.KalmanBoxTracker object at 0x160a9b2e0>, <sort.KalmanBoxTracker object at 0x160a998d0>, <sort.KalmanBoxTracker object at 0x160a9a860>, <sort.KalmanBoxTracker object at 0x160a9b160>, <sort.KalmanBoxTracker object at 0x160a9b250>, <sort.KalmanBoxTracker object at 0x160a9b220>, <sort.KalmanBoxTracker object at 0x160a9afb0>]\n",
      "sort_tracker.frame_count = 1\n",
      "sort_tracker.color_list = []\n"
     ]
    }
   ],
   "source": [
    "print(f\"{sort_tracker.max_age = }\")\n",
    "print(f\"{sort_tracker.min_hits = }\")\n",
    "print(f\"{sort_tracker.iou_threshold = }\")\n",
    "print(f\"{sort_tracker.trackers = }\")\n",
    "print(f\"{sort_tracker.frame_count = }\")\n",
    "print(f\"{sort_tracker.color_list = }\")"
   ]
  },
  {
   "cell_type": "code",
   "execution_count": 41,
   "metadata": {},
   "outputs": [
    {
     "name": "stdout",
     "output_type": "stream",
     "text": [
      "len(tracks) = 27\n"
     ]
    }
   ],
   "source": [
    "print(f\"{len(tracks) = }\")"
   ]
  },
  {
   "cell_type": "code",
   "execution_count": 42,
   "metadata": {},
   "outputs": [],
   "source": [
    "def convert_x_to_bbox(x, score=None):\n",
    "    w = np.sqrt(x[2] * x[3])\n",
    "    h = x[2] / w\n",
    "    if(score==None):\n",
    "        return np.array([x[0]-w/2.,x[1]-h/2.,x[0]+w/2.,x[1]+h/2.]).reshape((1,4))\n",
    "    else:\n",
    "        return np.array([x[0]-w/2.,x[1]-h/2.,x[0]+w/2.,x[1]+h/2.,score]).reshape((1,5))\n",
    "def convert_bbox_to_z(bbox):\n",
    "    w = bbox[2] - bbox[0]\n",
    "    h = bbox[3] - bbox[1]\n",
    "    x = bbox[0] + w/2.\n",
    "    y = bbox[1] + h/2.\n",
    "    s = w * h    \n",
    "    #scale is just area\n",
    "    r = w / float(h)\n",
    "    return np.array([x, y, s, r]).reshape((4, 1))"
   ]
  },
  {
   "cell_type": "code",
   "execution_count": 46,
   "metadata": {},
   "outputs": [
    {
     "data": {
      "text/plain": [
       "[(1661.0, 736.0)]"
      ]
     },
     "execution_count": 46,
     "metadata": {},
     "output_type": "execute_result"
    },
    {
     "data": {
      "text/plain": [
       "0.0"
      ]
     },
     "execution_count": 46,
     "metadata": {},
     "output_type": "execute_result"
    },
    {
     "data": {
      "text/plain": [
       "0.9092326164245605"
      ]
     },
     "execution_count": 46,
     "metadata": {},
     "output_type": "execute_result"
    }
   ],
   "source": [
    "m = 1\n",
    "tracks[m].centroidarr\n",
    "tracks[m].detclass\n",
    "tracks[m].confidence\n",
    "# tracks[m].kf.x\n",
    "# convert_x_to_bbox(tracks[m].kf.x)\n",
    "# convert_bbox_to_z(convert_x_to_bbox(tracks[m].kf.x)[0])"
   ]
  },
  {
   "cell_type": "code",
   "execution_count": null,
   "metadata": {},
   "outputs": [],
   "source": [
    "print(f\"{len(tracked_dets) = }\")\n",
    "print(f\"{opt.show_track = }\")"
   ]
  },
  {
   "cell_type": "code",
   "execution_count": null,
   "metadata": {},
   "outputs": [],
   "source": [
    "bbox_xyxy = tracked_dets[:,:4]\n",
    "identities = tracked_dets[:, 8]\n",
    "categories = tracked_dets[:, 4]\n",
    "confidences = None"
   ]
  },
  {
   "cell_type": "code",
   "execution_count": null,
   "metadata": {},
   "outputs": [],
   "source": [
    "track = tracks[0]"
   ]
  },
  {
   "cell_type": "code",
   "execution_count": null,
   "metadata": {},
   "outputs": [],
   "source": [
    "opt.unique_track_color\n",
    "colors[int(track.detclass)]"
   ]
  },
  {
   "cell_type": "code",
   "execution_count": null,
   "metadata": {},
   "outputs": [],
   "source": [
    "track_color = colors[int(track.detclass)] if not opt.unique_track_color else sort_tracker.color_list[t]"
   ]
  },
  {
   "cell_type": "code",
   "execution_count": null,
   "metadata": {},
   "outputs": [],
   "source": [
    "track.centroidarr"
   ]
  },
  {
   "cell_type": "code",
   "execution_count": null,
   "metadata": {},
   "outputs": [],
   "source": [
    "opt.nobbox\n",
    "opt.nolabel"
   ]
  },
  {
   "cell_type": "code",
   "execution_count": null,
   "metadata": {},
   "outputs": [],
   "source": []
  },
  {
   "cell_type": "code",
   "execution_count": null,
   "metadata": {},
   "outputs": [],
   "source": []
  },
  {
   "cell_type": "code",
   "execution_count": null,
   "metadata": {},
   "outputs": [],
   "source": []
  },
  {
   "cell_type": "code",
   "execution_count": null,
   "metadata": {},
   "outputs": [],
   "source": []
  },
  {
   "cell_type": "code",
   "execution_count": null,
   "metadata": {},
   "outputs": [],
   "source": []
  },
  {
   "cell_type": "code",
   "execution_count": null,
   "metadata": {},
   "outputs": [],
   "source": []
  }
 ],
 "metadata": {
  "kernelspec": {
   "display_name": "Python 3.9.15 ('yolov7')",
   "language": "python",
   "name": "python3"
  },
  "language_info": {
   "codemirror_mode": {
    "name": "ipython",
    "version": 3
   },
   "file_extension": ".py",
   "mimetype": "text/x-python",
   "name": "python",
   "nbconvert_exporter": "python",
   "pygments_lexer": "ipython3",
   "version": "3.10.8"
  },
  "orig_nbformat": 4,
  "vscode": {
   "interpreter": {
    "hash": "1e1432e545b0c1cd60505bff387fd0ff464689d608b7f151659873143ae0fbed"
   }
  }
 },
 "nbformat": 4,
 "nbformat_minor": 2
}
