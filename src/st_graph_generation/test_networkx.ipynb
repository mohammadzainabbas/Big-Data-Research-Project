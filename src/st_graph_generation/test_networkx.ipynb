{
 "cells": [
  {
   "cell_type": "code",
   "execution_count": 1,
   "metadata": {},
   "outputs": [
    {
     "name": "stderr",
     "output_type": "stream",
     "text": [
      "/opt/homebrew/Caskroom/mambaforge/base/envs/yolov7/lib/python3.10/site-packages/tqdm/auto.py:22: TqdmWarning: IProgress not found. Please update jupyter and ipywidgets. See https://ipywidgets.readthedocs.io/en/stable/user_install.html\n",
      "  from .autonotebook import tqdm as notebook_tqdm\n"
     ]
    }
   ],
   "source": [
    "import argparse\n",
    "import time\n",
    "from pathlib import Path\n",
    "from os.path import join\n",
    "import cv2\n",
    "import torch\n",
    "import torch.backends.cudnn as cudnn\n",
    "from numpy import random\n",
    "from typing import List, Tuple, Dict, Any, Union\n",
    "import networkx as nx\n",
    "from dataclasses import dataclass, field\n",
    "from stg_utils import *\n",
    "from sys import path\n",
    "path.append(\"/Users/mohammadzainabbas/Masters/CS/Big-Data-Research-Project/src/object_detection/yolov7_with_object_tracking\")\n",
    "\n",
    "from models.experimental import attempt_load\n",
    "from utils.datasets import LoadStreams, LoadImages\n",
    "from utils.general import check_img_size, check_requirements, \\\n",
    "                check_imshow, non_max_suppression, apply_classifier, \\\n",
    "                scale_coords, xyxy2xywh, strip_optimizer, set_logging, \\\n",
    "                increment_path\n",
    "from utils.plots import plot_one_box\n",
    "from utils.torch_utils import select_device, load_classifier, time_synchronized, TracedModel\n",
    "\n",
    "from sort import *\n",
    "\n",
    "from IPython.core.interactiveshell import InteractiveShell\n",
    "InteractiveShell.ast_node_interactivity = \"all\""
   ]
  },
  {
   "cell_type": "code",
   "execution_count": 2,
   "metadata": {},
   "outputs": [],
   "source": [
    "data = [\n",
    "    [       1647,         121,        1716,         284,     0.91595,           0],\n",
    "    [       1606,         609,        1716,         863,     0.90923,           0],\n",
    "    [        249,         787,         374,        1080,     0.89867,           0],\n",
    "    [        801,         245,         857,         422,     0.88594,           0],\n",
    "    [       1452,          35,        1535,         185,     0.88343,           0],\n",
    "    [       1575,         913,        1715,        1079,     0.87925,           0],\n",
    "    [        713,         229,         783,         409,     0.87111,           0],\n",
    "    [        871,         391,         985,         613,     0.86602,           0],\n",
    "    [       1347,          70,        1395,         151,     0.81387,           1],\n",
    "    [        879,          77,         943,         232,     0.80651,           0],\n",
    "    [       1797,         180,        1864,         367,     0.78584,           0],\n",
    "    [        886,         482,        1022,         643,     0.78523,           1],\n",
    "    [        294,         298,         364,         481,     0.71708,           0],\n",
    "    [        615,          78,         690,         193,     0.71245,          58],\n",
    "    [        616,        1007,         752,        1080,     0.69813,           0],\n",
    "    [       1509,          90,        1553,         192,     0.69539,           1],\n",
    "    [       1646,         686,        1712,         791,     0.69249,          26],\n",
    "    [       1347,          16,        1402,         129,     0.68978,           0],\n",
    "    [       1154,           0,        1197,          75,     0.65086,           0],\n",
    "    [         11,         277,          90,         435,     0.58677,           0],\n",
    "    [        985,           0,        1032,         127,      0.5406,           0],\n",
    "    [       1324,           0,        1358,          47,     0.53892,           0],\n",
    "    [        247,         951,         284,        1023,     0.34445,          26],\n",
    "    [        284,         398,         315,         456,     0.30317,          26],\n",
    "    [        593,         244,         802,         417,     0.29631,          13],\n",
    "    [       1837,         262,        1883,         344,     0.28662,           0],\n",
    "    [       1806,         208,        1857,         292,     0.26673,          24]]"
   ]
  },
  {
   "cell_type": "code",
   "execution_count": 3,
   "metadata": {},
   "outputs": [
    {
     "data": {
      "text/plain": [
       "[[1647, 121, 1716, 284, 0.91595, 0],\n",
       " [1606, 609, 1716, 863, 0.90923, 0],\n",
       " [249, 787, 374, 1080, 0.89867, 0],\n",
       " [801, 245, 857, 422, 0.88594, 0],\n",
       " [1452, 35, 1535, 185, 0.88343, 0],\n",
       " [1575, 913, 1715, 1079, 0.87925, 0],\n",
       " [713, 229, 783, 409, 0.87111, 0],\n",
       " [871, 391, 985, 613, 0.86602, 0],\n",
       " [1347, 70, 1395, 151, 0.81387, 1],\n",
       " [879, 77, 943, 232, 0.80651, 0],\n",
       " [1797, 180, 1864, 367, 0.78584, 0],\n",
       " [886, 482, 1022, 643, 0.78523, 1],\n",
       " [294, 298, 364, 481, 0.71708, 0],\n",
       " [615, 78, 690, 193, 0.71245, 58],\n",
       " [616, 1007, 752, 1080, 0.69813, 0],\n",
       " [1509, 90, 1553, 192, 0.69539, 1],\n",
       " [1646, 686, 1712, 791, 0.69249, 26],\n",
       " [1347, 16, 1402, 129, 0.68978, 0],\n",
       " [1154, 0, 1197, 75, 0.65086, 0],\n",
       " [11, 277, 90, 435, 0.58677, 0],\n",
       " [985, 0, 1032, 127, 0.5406, 0],\n",
       " [1324, 0, 1358, 47, 0.53892, 0],\n",
       " [247, 951, 284, 1023, 0.34445, 26],\n",
       " [284, 398, 315, 456, 0.30317, 26],\n",
       " [593, 244, 802, 417, 0.29631, 13],\n",
       " [1837, 262, 1883, 344, 0.28662, 0],\n",
       " [1806, 208, 1857, 292, 0.26673, 24]]"
      ]
     },
     "execution_count": 3,
     "metadata": {},
     "output_type": "execute_result"
    }
   ],
   "source": []
  },
  {
   "cell_type": "code",
   "execution_count": 4,
   "metadata": {},
   "outputs": [],
   "source": [
    "@dataclass\n",
    "class Node:\n",
    "    id: int = field(default=0)\n",
    "    x1: int = field(default=0)\n",
    "    y1: int = field(default=0)\n",
    "    x2: int = field(default=0)\n",
    "    y2: int = field(default=0)\n",
    "    conf: float = field(default=float(0))\n",
    "    detclass: int = field(default=0)\n",
    "    class_name: str = field(default=\"\")\n",
    "    centroid: tuple = field(init=False)\n",
    "    def __post_init__(self):\n",
    "        self.centroid = ((self.x1 + self.x2) // 2, (self.y1 + self.y2) // 2)"
   ]
  },
  {
   "cell_type": "code",
   "execution_count": 5,
   "metadata": {},
   "outputs": [],
   "source": [
    "@dataclass\n",
    "class Edge:\n",
    "    weight: Union[float, int] = field(default=0)"
   ]
  },
  {
   "cell_type": "code",
   "execution_count": 47,
   "metadata": {},
   "outputs": [],
   "source": [
    "def generate_spatial_graph(img, bbox, identities=None, categories=None, confidences = None, names=None, colors = None):\n",
    "    \"\"\"\n",
    "    Construct a spatial graph from the bounding boxes, identities, categories, confidences, names and colors\n",
    "    \"\"\"\n",
    "    graph = nx.Graph()\n",
    "    for i, box in enumerate(bbox):\n",
    "        x1, y1, x2, y2 = [int(i) for i in box]\n",
    "\n",
    "        cat = int(categories[i]) if categories is not None else 0\n",
    "        id = int(identities[i]) if identities is not None else 0\n",
    "        conf = confidences[i] if confidences is not None else 0\n",
    "        class_name = names[cat]\n",
    "        graph.add_node(Node(id, x1, y1, x2, y2, conf, cat, class_name))\n",
    "\n",
    "        tl = opt.thickness or round(0.002 * (img.shape[0] + img.shape[1]) / 2) + 1  # line/font thickness\n",
    "\n",
    "        color = colors[cat]\n",
    "        \n",
    "        if not opt.nobbox:\n",
    "            cv2.circle(img, (x1, y1), (x2, y2), color, tl)\n",
    "\n",
    "        if not opt.nolabel:\n",
    "            label = f\"Node({str(id)}): {names[cat]} {confidences[i]:.2f}\" if identities is not None else  f'{names[cat]} {confidences[i]:.2f}'\n",
    "            tf = max(tl - 1, 1)  # font thickness\n",
    "            t_size = cv2.getTextSize(label, 0, fontScale=tl / 3, thickness=tf)[0]\n",
    "            c2 = x1 + t_size[0], y1 - t_size[1] - 3\n",
    "            cv2.circle(img, (x1, y1), c2, color, -1, cv2.LINE_AA)  # filled\n",
    "            cv2.putText(img, label, (x1, y1 - 2), 0, tl / 3, [225, 255, 255], thickness=tf, lineType=cv2.LINE_AA)\n",
    "    return img, graph"
   ]
  },
  {
   "cell_type": "code",
   "execution_count": null,
   "metadata": {},
   "outputs": [],
   "source": [
    "_, graph = generate_spatial_graph(_, bbox, identities, categories, confidences, names, colors)"
   ]
  }
 ],
 "metadata": {
  "kernelspec": {
   "display_name": "Python 3.9.15 ('yolov7')",
   "language": "python",
   "name": "python3"
  },
  "language_info": {
   "codemirror_mode": {
    "name": "ipython",
    "version": 3
   },
   "file_extension": ".py",
   "mimetype": "text/x-python",
   "name": "python",
   "nbconvert_exporter": "python",
   "pygments_lexer": "ipython3",
   "version": "3.10.8"
  },
  "orig_nbformat": 4,
  "vscode": {
   "interpreter": {
    "hash": "1e1432e545b0c1cd60505bff387fd0ff464689d608b7f151659873143ae0fbed"
   }
  }
 },
 "nbformat": 4,
 "nbformat_minor": 2
}
