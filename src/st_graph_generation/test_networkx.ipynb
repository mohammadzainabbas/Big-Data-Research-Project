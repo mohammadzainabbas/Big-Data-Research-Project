{
 "cells": [
  {
   "cell_type": "code",
   "execution_count": 6,
   "metadata": {},
   "outputs": [],
   "source": [
    "import argparse\n",
    "import time\n",
    "from pathlib import Path\n",
    "from os.path import join\n",
    "import cv2\n",
    "import torch\n",
    "import torch.backends.cudnn as cudnn\n",
    "from numpy import random\n",
    "from typing import List, Tuple, Dict, Any, Union\n",
    "import networkx as nx\n",
    "from dataclasses import dataclass, field\n",
    "from scipy.spatial import distance\n",
    "from stg_utils import *\n",
    "from sys import path\n",
    "path.append(\"/Users/mohammadzainabbas/Masters/CS/Big-Data-Research-Project/src/object_detection/yolov7_with_object_tracking\")\n",
    "\n",
    "from models.experimental import attempt_load\n",
    "from utils.datasets import LoadStreams, LoadImages\n",
    "from utils.general import check_img_size, check_requirements, \\\n",
    "                check_imshow, non_max_suppression, apply_classifier, \\\n",
    "                scale_coords, xyxy2xywh, strip_optimizer, set_logging, \\\n",
    "                increment_path\n",
    "from utils.plots import plot_one_box\n",
    "from utils.torch_utils import select_device, load_classifier, time_synchronized, TracedModel\n",
    "\n",
    "from sort import *\n",
    "\n",
    "from IPython.core.interactiveshell import InteractiveShell\n",
    "InteractiveShell.ast_node_interactivity = \"all\""
   ]
  },
  {
   "cell_type": "code",
   "execution_count": 2,
   "metadata": {},
   "outputs": [],
   "source": [
    "data = [\n",
    "    [       1647,         121,        1716,         284,     0.91595,           0],\n",
    "    [       1606,         609,        1716,         863,     0.90923,           0],\n",
    "    [        249,         787,         374,        1080,     0.89867,           0],\n",
    "    [        801,         245,         857,         422,     0.88594,           0],\n",
    "    [       1452,          35,        1535,         185,     0.88343,           0],\n",
    "    [       1575,         913,        1715,        1079,     0.87925,           0],\n",
    "    [        713,         229,         783,         409,     0.87111,           0],\n",
    "    [        871,         391,         985,         613,     0.86602,           0],\n",
    "    [       1347,          70,        1395,         151,     0.81387,           1],\n",
    "    [        879,          77,         943,         232,     0.80651,           0],\n",
    "    [       1797,         180,        1864,         367,     0.78584,           0],\n",
    "    [        886,         482,        1022,         643,     0.78523,           1],\n",
    "    [        294,         298,         364,         481,     0.71708,           0],\n",
    "    [        615,          78,         690,         193,     0.71245,          58],\n",
    "    [        616,        1007,         752,        1080,     0.69813,           0],\n",
    "    [       1509,          90,        1553,         192,     0.69539,           1],\n",
    "    [       1646,         686,        1712,         791,     0.69249,          26],\n",
    "    [       1347,          16,        1402,         129,     0.68978,           0],\n",
    "    [       1154,           0,        1197,          75,     0.65086,           0],\n",
    "    [         11,         277,          90,         435,     0.58677,           0],\n",
    "    [        985,           0,        1032,         127,      0.5406,           0],\n",
    "    [       1324,           0,        1358,          47,     0.53892,           0],\n",
    "    [        247,         951,         284,        1023,     0.34445,          26],\n",
    "    [        284,         398,         315,         456,     0.30317,          26],\n",
    "    [        593,         244,         802,         417,     0.29631,          13],\n",
    "    [       1837,         262,        1883,         344,     0.28662,           0],\n",
    "    [       1806,         208,        1857,         292,     0.26673,          24]]"
   ]
  },
  {
   "cell_type": "code",
   "execution_count": 13,
   "metadata": {},
   "outputs": [],
   "source": [
    "names = ['person', 'bicycle', 'car', 'motorcycle', 'airplane', 'bus', 'train', 'truck', 'boat', 'traffic light', 'fire hydrant', 'stop sign', 'parking meter', 'bench', 'bird', 'cat', 'dog', 'horse', 'sheep', 'cow', 'elephant', 'bear', 'zebra', 'giraffe', 'backpack', 'umbrella', 'handbag', 'tie', 'suitcase', 'frisbee', 'skis', 'snowboard', 'sports ball', 'kite', 'baseball bat', 'baseball glove', 'skateboard', 'surfboard', 'tennis racket', 'bottle', 'wine glass', 'cup', 'fork', 'knife', 'spoon', 'bowl', 'banana', 'apple', 'sandwich', 'orange', 'broccoli', 'carrot', 'hot dog', 'pizza', 'donut', 'cake', 'chair', 'couch', 'potted plant', 'bed', 'dining table', 'toilet', 'tv', 'laptop', 'mouse', 'remote', 'keyboard', 'cell phone', 'microwave', 'oven', 'toaster', 'sink', 'refrigerator', 'book', 'clock', 'vase', 'scissors', 'teddy bear', 'hair drier', 'toothbrush']"
   ]
  },
  {
   "cell_type": "code",
   "execution_count": 4,
   "metadata": {},
   "outputs": [],
   "source": [
    "@dataclass(frozen=True)\n",
    "class Node:\n",
    "    id: int = field(default=0)\n",
    "    x1: int = field(default=0)\n",
    "    y1: int = field(default=0)\n",
    "    x2: int = field(default=0)\n",
    "    y2: int = field(default=0)\n",
    "    conf: float = field(default=float(0))\n",
    "    detclass: int = field(default=0)\n",
    "    class_name: str = field(default=\"\")\n",
    "    centroid: tuple = field(init=False)\n",
    "    def __post_init__(self):\n",
    "        self.centroid = ((self.x1 + self.x2) // 2, (self.y1 + self.y2) // 2)"
   ]
  },
  {
   "cell_type": "code",
   "execution_count": 5,
   "metadata": {},
   "outputs": [],
   "source": [
    "@dataclass\n",
    "class Edge:\n",
    "    weight: Union[float, int] = field(default=0)"
   ]
  },
  {
   "cell_type": "code",
   "execution_count": 22,
   "metadata": {},
   "outputs": [],
   "source": [
    "def generate_spatial_graph(img, bbox, identities=None, categories=None, confidences = None, names=None, colors = None):\n",
    "    \"\"\"\n",
    "    Construct a spatial graph from the bounding boxes, identities, categories, confidences, names and colors\n",
    "    \"\"\"\n",
    "    graph = nx.Graph()\n",
    "    for i, box in enumerate(bbox):\n",
    "        x1, y1, x2, y2 = [int(i) for i in box]\n",
    "\n",
    "        cat = int(categories[i]) if categories is not None else 0\n",
    "        id = int(identities[i]) if identities is not None else 0\n",
    "        conf = confidences[i] if confidences is not None else 0\n",
    "        class_name = names[cat]\n",
    "        graph.add_node(Node(id, x1, y1, x2, y2, conf, cat, class_name))\n",
    "\n",
    "    for node1 in graph.nodes:\n",
    "        for node2 in graph.nodes:\n",
    "            if node1.id == node2.id: continue\n",
    "            graph.add_edge(node1, node2, weight=distance.euclidean(node1.centroid, node2.centroid))\n",
    "\n",
    "    return img, graph"
   ]
  },
  {
   "cell_type": "code",
   "execution_count": 23,
   "metadata": {},
   "outputs": [],
   "source": [
    "data = np.array(data)\n",
    "bbox = data[:, :4]\n",
    "identities = [f\"{x}\" for x in range(len(data))]\n",
    "confidences = data[:, 4]\n",
    "categories = data[:, 5]\n",
    "colors = [[random.randint(0, 255) for _ in range(3)] for _ in range(len(names))]"
   ]
  },
  {
   "cell_type": "code",
   "execution_count": 24,
   "metadata": {},
   "outputs": [
    {
     "ename": "TypeError",
     "evalue": "unhashable type: 'dict'",
     "output_type": "error",
     "traceback": [
      "\u001b[0;31m---------------------------------------------------------------------------\u001b[0m",
      "\u001b[0;31mTypeError\u001b[0m                                 Traceback (most recent call last)",
      "Cell \u001b[0;32mIn [24], line 1\u001b[0m\n\u001b[0;32m----> 1\u001b[0m _, graph \u001b[39m=\u001b[39m generate_spatial_graph(_, bbox, identities, categories, confidences, names, colors)\n",
      "Cell \u001b[0;32mIn [22], line 13\u001b[0m, in \u001b[0;36mgenerate_spatial_graph\u001b[0;34m(img, bbox, identities, categories, confidences, names, colors)\u001b[0m\n\u001b[1;32m     11\u001b[0m     conf \u001b[39m=\u001b[39m confidences[i] \u001b[39mif\u001b[39;00m confidences \u001b[39mis\u001b[39;00m \u001b[39mnot\u001b[39;00m \u001b[39mNone\u001b[39;00m \u001b[39melse\u001b[39;00m \u001b[39m0\u001b[39m\n\u001b[1;32m     12\u001b[0m     class_name \u001b[39m=\u001b[39m names[cat]\n\u001b[0;32m---> 13\u001b[0m     graph\u001b[39m.\u001b[39;49madd_node(Node(\u001b[39mid\u001b[39;49m, x1, y1, x2, y2, conf, cat, class_name)\u001b[39m.\u001b[39;49m\u001b[39m__dict__\u001b[39;49m)\n\u001b[1;32m     15\u001b[0m \u001b[39mfor\u001b[39;00m node1 \u001b[39min\u001b[39;00m graph\u001b[39m.\u001b[39mnodes:\n\u001b[1;32m     16\u001b[0m     \u001b[39mfor\u001b[39;00m node2 \u001b[39min\u001b[39;00m graph\u001b[39m.\u001b[39mnodes:\n",
      "File \u001b[0;32m/opt/homebrew/Caskroom/mambaforge/base/envs/yolov7/lib/python3.10/site-packages/networkx/classes/graph.py:558\u001b[0m, in \u001b[0;36mGraph.add_node\u001b[0;34m(self, node_for_adding, **attr)\u001b[0m\n\u001b[1;32m    519\u001b[0m \u001b[39mdef\u001b[39;00m \u001b[39madd_node\u001b[39m(\u001b[39mself\u001b[39m, node_for_adding, \u001b[39m*\u001b[39m\u001b[39m*\u001b[39mattr):\n\u001b[1;32m    520\u001b[0m     \u001b[39m\"\"\"Add a single node `node_for_adding` and update node attributes.\u001b[39;00m\n\u001b[1;32m    521\u001b[0m \n\u001b[1;32m    522\u001b[0m \u001b[39m    Parameters\u001b[39;00m\n\u001b[0;32m   (...)\u001b[0m\n\u001b[1;32m    556\u001b[0m \u001b[39m    doesn't change on mutables.\u001b[39;00m\n\u001b[1;32m    557\u001b[0m \u001b[39m    \"\"\"\u001b[39;00m\n\u001b[0;32m--> 558\u001b[0m     \u001b[39mif\u001b[39;00m node_for_adding \u001b[39mnot\u001b[39;49;00m \u001b[39min\u001b[39;49;00m \u001b[39mself\u001b[39;49m\u001b[39m.\u001b[39;49m_node:\n\u001b[1;32m    559\u001b[0m         \u001b[39mif\u001b[39;00m node_for_adding \u001b[39mis\u001b[39;00m \u001b[39mNone\u001b[39;00m:\n\u001b[1;32m    560\u001b[0m             \u001b[39mraise\u001b[39;00m \u001b[39mValueError\u001b[39;00m(\u001b[39m\"\u001b[39m\u001b[39mNone cannot be a node\u001b[39m\u001b[39m\"\u001b[39m)\n",
      "\u001b[0;31mTypeError\u001b[0m: unhashable type: 'dict'"
     ]
    }
   ],
   "source": [
    "_, graph = generate_spatial_graph(_, bbox, identities, categories, confidences, names, colors)"
   ]
  },
  {
   "cell_type": "code",
   "execution_count": 17,
   "metadata": {},
   "outputs": [],
   "source": [
    "a = Node(1, 1, 1, 1, 1, 1, 1, \"a\")"
   ]
  },
  {
   "cell_type": "code",
   "execution_count": 21,
   "metadata": {},
   "outputs": [
    {
     "data": {
      "text/plain": [
       "{'id': 1,\n",
       " 'x1': 1,\n",
       " 'y1': 1,\n",
       " 'x2': 1,\n",
       " 'y2': 1,\n",
       " 'conf': 1,\n",
       " 'detclass': 1,\n",
       " 'class_name': 'a',\n",
       " 'centroid': (1, 1)}"
      ]
     },
     "execution_count": 21,
     "metadata": {},
     "output_type": "execute_result"
    }
   ],
   "source": [
    "Node(1, 1, 1, 1, 1, 1, 1, \"a\").__dict__"
   ]
  },
  {
   "cell_type": "code",
   "execution_count": 20,
   "metadata": {},
   "outputs": [
    {
     "data": {
      "text/plain": [
       "{'id': 1,\n",
       " 'x1': 1,\n",
       " 'y1': 1,\n",
       " 'x2': 1,\n",
       " 'y2': 1,\n",
       " 'conf': 1,\n",
       " 'detclass': 1,\n",
       " 'class_name': 'a',\n",
       " 'centroid': (1, 1)}"
      ]
     },
     "execution_count": 20,
     "metadata": {},
     "output_type": "execute_result"
    }
   ],
   "source": [
    "a.__dict__"
   ]
  },
  {
   "cell_type": "code",
   "execution_count": 19,
   "metadata": {},
   "outputs": [
    {
     "name": "stdout",
     "output_type": "stream",
     "text": [
      "dir(a) = ['__annotations__', '__class__', '__dataclass_fields__', '__dataclass_params__', '__delattr__', '__dict__', '__dir__', '__doc__', '__eq__', '__format__', '__ge__', '__getattribute__', '__gt__', '__hash__', '__init__', '__init_subclass__', '__le__', '__lt__', '__match_args__', '__module__', '__ne__', '__new__', '__post_init__', '__reduce__', '__reduce_ex__', '__repr__', '__setattr__', '__sizeof__', '__str__', '__subclasshook__', '__weakref__', 'centroid', 'class_name', 'conf', 'detclass', 'id', 'x1', 'x2', 'y1', 'y2']\n"
     ]
    }
   ],
   "source": [
    "print(f\"{dir(a) = }\")"
   ]
  },
  {
   "cell_type": "code",
   "execution_count": null,
   "metadata": {},
   "outputs": [],
   "source": []
  }
 ],
 "metadata": {
  "kernelspec": {
   "display_name": "Python 3.9.15 ('yolov7')",
   "language": "python",
   "name": "python3"
  },
  "language_info": {
   "codemirror_mode": {
    "name": "ipython",
    "version": 3
   },
   "file_extension": ".py",
   "mimetype": "text/x-python",
   "name": "python",
   "nbconvert_exporter": "python",
   "pygments_lexer": "ipython3",
   "version": "3.10.8"
  },
  "orig_nbformat": 4,
  "vscode": {
   "interpreter": {
    "hash": "1e1432e545b0c1cd60505bff387fd0ff464689d608b7f151659873143ae0fbed"
   }
  }
 },
 "nbformat": 4,
 "nbformat_minor": 2
}
