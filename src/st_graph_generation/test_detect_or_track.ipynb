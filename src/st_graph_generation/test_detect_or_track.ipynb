{
 "cells": [
  {
   "cell_type": "code",
   "execution_count": 1,
   "metadata": {},
   "outputs": [
    {
     "name": "stderr",
     "output_type": "stream",
     "text": [
      "/opt/homebrew/Caskroom/mambaforge/base/envs/yolov7/lib/python3.9/site-packages/tqdm/auto.py:22: TqdmWarning: IProgress not found. Please update jupyter and ipywidgets. See https://ipywidgets.readthedocs.io/en/stable/user_install.html\n",
      "  from .autonotebook import tqdm as notebook_tqdm\n"
     ]
    }
   ],
   "source": [
    "import argparse\n",
    "import time\n",
    "from pathlib import Path\n",
    "from os.path import join\n",
    "import cv2\n",
    "import torch\n",
    "import torch.backends.cudnn as cudnn\n",
    "from numpy import random\n",
    "from sys import path\n",
    "\n",
    "path.append(\"/Users/mohammadzainabbas/Masters/CS/Big-Data-Research-Project/src/object_detection/yolov7_with_object_tracking\")\n",
    "\n",
    "from models.experimental import attempt_load\n",
    "from utils.datasets import LoadStreams, LoadImages\n",
    "from utils.general import check_img_size, check_requirements, \\\n",
    "                check_imshow, non_max_suppression, apply_classifier, \\\n",
    "                scale_coords, xyxy2xywh, strip_optimizer, set_logging, \\\n",
    "                increment_path\n",
    "from utils.plots import plot_one_box\n",
    "from utils.torch_utils import select_device, load_classifier, time_synchronized, TracedModel\n",
    "\n",
    "from sort import *"
   ]
  },
  {
   "cell_type": "code",
   "execution_count": 2,
   "metadata": {},
   "outputs": [
    {
     "data": {
      "text/plain": [
       "['/Users/mohammadzainabbas/Masters/CS/Big-Data-Research-Project/src/st_graph_generation',\n",
       " '/Users/mohammadzainabbas/.vscode/extensions/ms-toolsai.jupyter-2022.9.1303220346/pythonFiles',\n",
       " '/Users/mohammadzainabbas/.vscode/extensions/ms-toolsai.jupyter-2022.9.1303220346/pythonFiles/lib/python',\n",
       " '/opt/homebrew/Caskroom/mambaforge/base/envs/yolov7/lib/python39.zip',\n",
       " '/opt/homebrew/Caskroom/mambaforge/base/envs/yolov7/lib/python3.9',\n",
       " '/opt/homebrew/Caskroom/mambaforge/base/envs/yolov7/lib/python3.9/lib-dynload',\n",
       " '',\n",
       " '/Users/mohammadzainabbas/.local/lib/python3.9/site-packages',\n",
       " '/opt/homebrew/Caskroom/mambaforge/base/envs/yolov7/lib/python3.9/site-packages']"
      ]
     },
     "execution_count": 2,
     "metadata": {},
     "output_type": "execute_result"
    }
   ],
   "source": [
    "path"
   ]
  },
  {
   "cell_type": "code",
   "execution_count": 3,
   "metadata": {},
   "outputs": [],
   "source": [
    "path.append(\"/Users/mohammadzainabbas/Masters/CS/Big-Data-Research-Project/src/object_detection/yolov7_with_object_tracking\")"
   ]
  },
  {
   "cell_type": "code",
   "execution_count": 4,
   "metadata": {},
   "outputs": [
    {
     "data": {
      "text/plain": [
       "['/Users/mohammadzainabbas/Masters/CS/Big-Data-Research-Project/src/st_graph_generation',\n",
       " '/Users/mohammadzainabbas/.vscode/extensions/ms-toolsai.jupyter-2022.9.1303220346/pythonFiles',\n",
       " '/Users/mohammadzainabbas/.vscode/extensions/ms-toolsai.jupyter-2022.9.1303220346/pythonFiles/lib/python',\n",
       " '/opt/homebrew/Caskroom/mambaforge/base/envs/yolov7/lib/python39.zip',\n",
       " '/opt/homebrew/Caskroom/mambaforge/base/envs/yolov7/lib/python3.9',\n",
       " '/opt/homebrew/Caskroom/mambaforge/base/envs/yolov7/lib/python3.9/lib-dynload',\n",
       " '',\n",
       " '/Users/mohammadzainabbas/.local/lib/python3.9/site-packages',\n",
       " '/opt/homebrew/Caskroom/mambaforge/base/envs/yolov7/lib/python3.9/site-packages',\n",
       " '/Users/mohammadzainabbas/Masters/CS/Big-Data-Research-Project/src/object_detection/yolov7_with_object_tracking']"
      ]
     },
     "execution_count": 4,
     "metadata": {},
     "output_type": "execute_result"
    }
   ],
   "source": [
    "path"
   ]
  },
  {
   "cell_type": "code",
   "execution_count": 5,
   "metadata": {},
   "outputs": [],
   "source": [
    "# from ..object_detection.yolov7_with_object_tracking.models.experimental import attempt_load\n",
    "from models.experimental import attempt_load"
   ]
  },
  {
   "cell_type": "code",
   "execution_count": null,
   "metadata": {},
   "outputs": [],
   "source": []
  }
 ],
 "metadata": {
  "kernelspec": {
   "display_name": "Python 3.9.15 ('yolov7')",
   "language": "python",
   "name": "python3"
  },
  "language_info": {
   "codemirror_mode": {
    "name": "ipython",
    "version": 3
   },
   "file_extension": ".py",
   "mimetype": "text/x-python",
   "name": "python",
   "nbconvert_exporter": "python",
   "pygments_lexer": "ipython3",
   "version": "3.9.15"
  },
  "orig_nbformat": 4,
  "vscode": {
   "interpreter": {
    "hash": "1e1432e545b0c1cd60505bff387fd0ff464689d608b7f151659873143ae0fbed"
   }
  }
 },
 "nbformat": 4,
 "nbformat_minor": 2
}
